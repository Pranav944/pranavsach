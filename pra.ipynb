{
 "cells": [
  {
   "cell_type": "code",
   "execution_count": 3,
   "id": "b1c29202-5256-455b-ad75-269a10ecc9db",
   "metadata": {},
   "outputs": [
    {
     "name": "stdin",
     "output_type": "stream",
     "text": [
      "enter the age 18\n"
     ]
    },
    {
     "name": "stdout",
     "output_type": "stream",
     "text": [
      "eli\n"
     ]
    }
   ],
   "source": [
    "# age greater than equal to 18 print eligible else print ineligible\n",
    "a=int(input(\"enter the age\"))\n",
    "if(a>=18):\n",
    "    print(\"eli\")\n",
    "else:\n",
    "    print(\"ineli\")"
   ]
  },
  {
   "cell_type": "code",
   "execution_count": 5,
   "id": "e259fb5e-18ef-44a9-81d7-5bc94d5c5a90",
   "metadata": {},
   "outputs": [
    {
     "name": "stdout",
     "output_type": "stream",
     "text": [
      "SACHIN\n"
     ]
    }
   ],
   "source": [
    "a=\"sachin\"\n",
    "print(a.upper())"
   ]
  },
  {
   "cell_type": "code",
   "execution_count": 7,
   "id": "1820ff2c-cd37-4497-8ea9-061480d7b332",
   "metadata": {},
   "outputs": [
    {
     "name": "stdout",
     "output_type": "stream",
     "text": [
      "False\n"
     ]
    }
   ],
   "source": [
    "a=\"sachin\"\n",
    "print(a.isdigit())"
   ]
  },
  {
   "cell_type": "code",
   "execution_count": 25,
   "id": "28b911f8-9dc3-4950-8e06-1f831f1c4be9",
   "metadata": {},
   "outputs": [
    {
     "name": "stdout",
     "output_type": "stream",
     "text": [
      "!!sachin\n"
     ]
    }
   ],
   "source": [
    "a=\"!!sachin\"\n",
    "print(a.rstrip(\"!\"))"
   ]
  },
  {
   "cell_type": "code",
   "execution_count": 29,
   "id": "ac88f698-381a-47cf-b14c-b3799658e7b9",
   "metadata": {},
   "outputs": [
    {
     "name": "stdout",
     "output_type": "stream",
     "text": [
      "suchin\n"
     ]
    }
   ],
   "source": [
    "a=\"sachin\"\n",
    "print(a.replace(\"a\",\"u\"))"
   ]
  },
  {
   "cell_type": "code",
   "execution_count": 33,
   "id": "11703490-83c9-4021-bcdd-fc2338f01617",
   "metadata": {},
   "outputs": [
    {
     "name": "stdin",
     "output_type": "stream",
     "text": [
      "enter the n 10\n"
     ]
    },
    {
     "name": "stdout",
     "output_type": "stream",
     "text": [
      "55\n"
     ]
    }
   ],
   "source": [
    "# sum of 1-n\n",
    "n=int(input(\"enter the n\"))\n",
    "sum=0;\n",
    "for i in range(n+1):\n",
    "    sum=sum+i;\n",
    "print(sum)"
   ]
  },
  {
   "cell_type": "code",
   "execution_count": 45,
   "id": "841c3bdd-94cd-45b0-b4a6-74b45b133546",
   "metadata": {},
   "outputs": [
    {
     "name": "stdin",
     "output_type": "stream",
     "text": [
      "enter the n 10\n"
     ]
    },
    {
     "name": "stdout",
     "output_type": "stream",
     "text": [
      "55\n"
     ]
    }
   ],
   "source": [
    "n=int(input(\"enter the n\"))\n",
    "sum=0;\n",
    "count=1;\n",
    "while(count<=n):\n",
    "     sum=sum+count;\n",
    "     count=count+1;\n",
    "print(sum)\n",
    "\n",
    "\n",
    "    "
   ]
  },
  {
   "cell_type": "code",
   "execution_count": 57,
   "id": "a5ea989f-a554-4a6f-a529-e0fd9fcbf1bb",
   "metadata": {},
   "outputs": [
    {
     "name": "stdout",
     "output_type": "stream",
     "text": [
      "-1\n"
     ]
    }
   ],
   "source": [
    "a=\"World Health\"\n",
    "print(a.find('P'))"
   ]
  },
  {
   "cell_type": "code",
   "execution_count": 67,
   "id": "8d3c1483-38eb-4b99-9e4d-ee929c9872c8",
   "metadata": {},
   "outputs": [
    {
     "ename": "NameError",
     "evalue": "name 'strftime' is not defined",
     "output_type": "error",
     "traceback": [
      "\u001b[1;31m---------------------------------------------------------------------------\u001b[0m",
      "\u001b[1;31mNameError\u001b[0m                                 Traceback (most recent call last)",
      "Cell \u001b[1;32mIn[67], line 1\u001b[0m\n\u001b[1;32m----> 1\u001b[0m \u001b[38;5;28mprint\u001b[39m(strftime(\u001b[38;5;124m\"\u001b[39m\u001b[38;5;124m%\u001b[39m\u001b[38;5;124mh;\u001b[39m\u001b[38;5;124m%\u001b[39m\u001b[38;5;124mM;\u001b[39m\u001b[38;5;124m%\u001b[39m\u001b[38;5;124mS\u001b[39m\u001b[38;5;124m\"\u001b[39m))\n",
      "\u001b[1;31mNameError\u001b[0m: name 'strftime' is not defined"
     ]
    }
   ],
   "source": [
    "\n",
    "print(strftime(%h;%M;%S))"
   ]
  },
  {
   "cell_type": "code",
   "execution_count": null,
   "id": "797f4a9d-e546-4e6d-bf00-29d0c2366f86",
   "metadata": {},
   "outputs": [],
   "source": []
  }
 ],
 "metadata": {
  "kernelspec": {
   "display_name": "Python 3 (ipykernel)",
   "language": "python",
   "name": "python3"
  },
  "language_info": {
   "codemirror_mode": {
    "name": "ipython",
    "version": 3
   },
   "file_extension": ".py",
   "mimetype": "text/x-python",
   "name": "python",
   "nbconvert_exporter": "python",
   "pygments_lexer": "ipython3",
   "version": "3.12.4"
  }
 },
 "nbformat": 4,
 "nbformat_minor": 5
}
